{
 "cells": [
  {
   "cell_type": "markdown",
   "id": "5307f59e-8934-4336-b627-5e19af0cabb3",
   "metadata": {},
   "source": [
    "### Binary Sentiment Classification of IMDb Reviews Using Gensim"
   ]
  },
  {
   "cell_type": "code",
   "execution_count": 1,
   "id": "4e6730cd-9738-4035-9a9e-40d1703624f5",
   "metadata": {},
   "outputs": [],
   "source": [
    "import gensim.downloader as api\n",
    "wv = api.load(\"word2vec-google-news-300\")"
   ]
  },
  {
   "cell_type": "code",
   "execution_count": 2,
   "id": "c05e0ce7-8bc6-4f2e-83db-6ed02d964df0",
   "metadata": {},
   "outputs": [],
   "source": [
    "import tarfile\n",
    "\n",
    "# Path to the tar.gz file\n",
    "tar_path = 'aclImdb_v1.tar.gz'\n",
    "\n",
    "# Extract the tar.gz file\n",
    "with tarfile.open(tar_path, 'r:gz') as tar:\n",
    "    tar.extractall()"
   ]
  },
  {
   "cell_type": "code",
   "execution_count": 3,
   "id": "4d4d244e-a95c-4c10-8948-84a170739467",
   "metadata": {},
   "outputs": [],
   "source": [
    "import os\n",
    "import pandas as pd\n",
    "\n",
    "# Function to load reviews from a directory into a DataFrame\n",
    "def load_reviews_to_df(directory):\n",
    "    reviews = []\n",
    "    labels = []\n",
    "    for label in ['pos', 'neg']:\n",
    "        labeled_dir = os.path.join(directory, label)\n",
    "        for filename in os.listdir(labeled_dir):\n",
    "            if filename.endswith('.txt'):\n",
    "                with open(os.path.join(labeled_dir, filename), 'r', encoding='utf-8') as file:\n",
    "                    reviews.append(file.read())\n",
    "                    labels.append('Positive' if label == 'pos' else 'Negative')\n",
    "    return pd.DataFrame({'Review': reviews, 'Label': labels})\n",
    "\n",
    "# Load training and testing data\n",
    "train_dir = 'aclImdb/train'\n",
    "test_dir = 'aclImdb/test'\n",
    "\n",
    "train_df = load_reviews_to_df(train_dir)\n",
    "test_df = load_reviews_to_df(test_dir)"
   ]
  },
  {
   "cell_type": "code",
   "execution_count": 4,
   "id": "df13ed35-d6cf-49de-bfcb-fed22eaef7ad",
   "metadata": {},
   "outputs": [
    {
     "data": {
      "text/html": [
       "<div>\n",
       "<style scoped>\n",
       "    .dataframe tbody tr th:only-of-type {\n",
       "        vertical-align: middle;\n",
       "    }\n",
       "\n",
       "    .dataframe tbody tr th {\n",
       "        vertical-align: top;\n",
       "    }\n",
       "\n",
       "    .dataframe thead th {\n",
       "        text-align: right;\n",
       "    }\n",
       "</style>\n",
       "<table border=\"1\" class=\"dataframe\">\n",
       "  <thead>\n",
       "    <tr style=\"text-align: right;\">\n",
       "      <th></th>\n",
       "      <th>Review</th>\n",
       "      <th>Label</th>\n",
       "    </tr>\n",
       "  </thead>\n",
       "  <tbody>\n",
       "    <tr>\n",
       "      <th>0</th>\n",
       "      <td>Bromwell High is a cartoon comedy. It ran at t...</td>\n",
       "      <td>Positive</td>\n",
       "    </tr>\n",
       "    <tr>\n",
       "      <th>1</th>\n",
       "      <td>Homelessness (or Houselessness as George Carli...</td>\n",
       "      <td>Positive</td>\n",
       "    </tr>\n",
       "    <tr>\n",
       "      <th>2</th>\n",
       "      <td>Brilliant over-acting by Lesley Ann Warren. Be...</td>\n",
       "      <td>Positive</td>\n",
       "    </tr>\n",
       "    <tr>\n",
       "      <th>3</th>\n",
       "      <td>This is easily the most underrated film inn th...</td>\n",
       "      <td>Positive</td>\n",
       "    </tr>\n",
       "    <tr>\n",
       "      <th>4</th>\n",
       "      <td>This is not the typical Mel Brooks film. It wa...</td>\n",
       "      <td>Positive</td>\n",
       "    </tr>\n",
       "  </tbody>\n",
       "</table>\n",
       "</div>"
      ],
      "text/plain": [
       "                                              Review     Label\n",
       "0  Bromwell High is a cartoon comedy. It ran at t...  Positive\n",
       "1  Homelessness (or Houselessness as George Carli...  Positive\n",
       "2  Brilliant over-acting by Lesley Ann Warren. Be...  Positive\n",
       "3  This is easily the most underrated film inn th...  Positive\n",
       "4  This is not the typical Mel Brooks film. It wa...  Positive"
      ]
     },
     "execution_count": 4,
     "metadata": {},
     "output_type": "execute_result"
    }
   ],
   "source": [
    "train_df.head()"
   ]
  },
  {
   "cell_type": "markdown",
   "id": "10ee6819-e278-40ed-bd9e-4ebda1106246",
   "metadata": {},
   "source": [
    "### Data Exploration"
   ]
  },
  {
   "cell_type": "markdown",
   "id": "a5eb0253-672a-40e2-8eb5-a6e1ca49ef46",
   "metadata": {},
   "source": [
    "##### Check if there is a class imbalance "
   ]
  },
  {
   "cell_type": "code",
   "execution_count": 5,
   "id": "3ee143b3-590e-4883-ad6a-bae7fa08b89f",
   "metadata": {},
   "outputs": [
    {
     "data": {
      "text/plain": [
       "Label\n",
       "Positive    12500\n",
       "Negative    12500\n",
       "Name: count, dtype: int64"
      ]
     },
     "execution_count": 5,
     "metadata": {},
     "output_type": "execute_result"
    }
   ],
   "source": [
    "train_df.Label.value_counts()"
   ]
  },
  {
   "cell_type": "code",
   "execution_count": 6,
   "id": "2d988065-7e34-4ad0-9b69-e2e570239838",
   "metadata": {},
   "outputs": [
    {
     "data": {
      "text/plain": [
       "Label\n",
       "Positive    12500\n",
       "Negative    12500\n",
       "Name: count, dtype: int64"
      ]
     },
     "execution_count": 6,
     "metadata": {},
     "output_type": "execute_result"
    }
   ],
   "source": [
    "test_df.Label.value_counts()"
   ]
  },
  {
   "cell_type": "markdown",
   "id": "8dd4cc91-2c4d-47d9-8c46-6a41db7e4d5b",
   "metadata": {},
   "source": [
    "The dataset contains 25,000 movie reviews from IMDb, which can either be positive or negative. The dataset is balanced, with 12,500 positive reviews and 12,500 negative reviews."
   ]
  },
  {
   "cell_type": "markdown",
   "id": "eb0c3ddd-328c-4d18-96ae-1021eaf89f02",
   "metadata": {},
   "source": [
    "##### Create a class for these labels"
   ]
  },
  {
   "cell_type": "code",
   "execution_count": 7,
   "id": "fe80b4f6-19fd-4838-9a94-4f768fa5cd90",
   "metadata": {},
   "outputs": [
    {
     "data": {
      "text/html": [
       "<div>\n",
       "<style scoped>\n",
       "    .dataframe tbody tr th:only-of-type {\n",
       "        vertical-align: middle;\n",
       "    }\n",
       "\n",
       "    .dataframe tbody tr th {\n",
       "        vertical-align: top;\n",
       "    }\n",
       "\n",
       "    .dataframe thead th {\n",
       "        text-align: right;\n",
       "    }\n",
       "</style>\n",
       "<table border=\"1\" class=\"dataframe\">\n",
       "  <thead>\n",
       "    <tr style=\"text-align: right;\">\n",
       "      <th></th>\n",
       "      <th>Review</th>\n",
       "      <th>Label</th>\n",
       "      <th>label_num</th>\n",
       "    </tr>\n",
       "  </thead>\n",
       "  <tbody>\n",
       "    <tr>\n",
       "      <th>0</th>\n",
       "      <td>Bromwell High is a cartoon comedy. It ran at t...</td>\n",
       "      <td>Positive</td>\n",
       "      <td>0</td>\n",
       "    </tr>\n",
       "    <tr>\n",
       "      <th>1</th>\n",
       "      <td>Homelessness (or Houselessness as George Carli...</td>\n",
       "      <td>Positive</td>\n",
       "      <td>0</td>\n",
       "    </tr>\n",
       "    <tr>\n",
       "      <th>2</th>\n",
       "      <td>Brilliant over-acting by Lesley Ann Warren. Be...</td>\n",
       "      <td>Positive</td>\n",
       "      <td>0</td>\n",
       "    </tr>\n",
       "    <tr>\n",
       "      <th>3</th>\n",
       "      <td>This is easily the most underrated film inn th...</td>\n",
       "      <td>Positive</td>\n",
       "      <td>0</td>\n",
       "    </tr>\n",
       "    <tr>\n",
       "      <th>4</th>\n",
       "      <td>This is not the typical Mel Brooks film. It wa...</td>\n",
       "      <td>Positive</td>\n",
       "      <td>0</td>\n",
       "    </tr>\n",
       "  </tbody>\n",
       "</table>\n",
       "</div>"
      ],
      "text/plain": [
       "                                              Review     Label  label_num\n",
       "0  Bromwell High is a cartoon comedy. It ran at t...  Positive          0\n",
       "1  Homelessness (or Houselessness as George Carli...  Positive          0\n",
       "2  Brilliant over-acting by Lesley Ann Warren. Be...  Positive          0\n",
       "3  This is easily the most underrated film inn th...  Positive          0\n",
       "4  This is not the typical Mel Brooks film. It wa...  Positive          0"
      ]
     },
     "execution_count": 7,
     "metadata": {},
     "output_type": "execute_result"
    }
   ],
   "source": [
    "train_df['label_num'] = train_df['Label'].map({\n",
    "    'Positive': 0,\n",
    "    'Negative': 1\n",
    "})\n",
    "train_df.head()"
   ]
  },
  {
   "cell_type": "code",
   "execution_count": 8,
   "id": "54963206-bc43-4e0b-9d25-acfb5beaaad1",
   "metadata": {},
   "outputs": [
    {
     "data": {
      "text/html": [
       "<div>\n",
       "<style scoped>\n",
       "    .dataframe tbody tr th:only-of-type {\n",
       "        vertical-align: middle;\n",
       "    }\n",
       "\n",
       "    .dataframe tbody tr th {\n",
       "        vertical-align: top;\n",
       "    }\n",
       "\n",
       "    .dataframe thead th {\n",
       "        text-align: right;\n",
       "    }\n",
       "</style>\n",
       "<table border=\"1\" class=\"dataframe\">\n",
       "  <thead>\n",
       "    <tr style=\"text-align: right;\">\n",
       "      <th></th>\n",
       "      <th>Review</th>\n",
       "      <th>Label</th>\n",
       "      <th>label_num</th>\n",
       "    </tr>\n",
       "  </thead>\n",
       "  <tbody>\n",
       "    <tr>\n",
       "      <th>0</th>\n",
       "      <td>I went and saw this movie last night after bei...</td>\n",
       "      <td>Positive</td>\n",
       "      <td>0</td>\n",
       "    </tr>\n",
       "    <tr>\n",
       "      <th>1</th>\n",
       "      <td>Actor turned director Bill Paxton follows up h...</td>\n",
       "      <td>Positive</td>\n",
       "      <td>0</td>\n",
       "    </tr>\n",
       "    <tr>\n",
       "      <th>2</th>\n",
       "      <td>As a recreational golfer with some knowledge o...</td>\n",
       "      <td>Positive</td>\n",
       "      <td>0</td>\n",
       "    </tr>\n",
       "    <tr>\n",
       "      <th>3</th>\n",
       "      <td>I saw this film in a sneak preview, and it is ...</td>\n",
       "      <td>Positive</td>\n",
       "      <td>0</td>\n",
       "    </tr>\n",
       "    <tr>\n",
       "      <th>4</th>\n",
       "      <td>Bill Paxton has taken the true story of the 19...</td>\n",
       "      <td>Positive</td>\n",
       "      <td>0</td>\n",
       "    </tr>\n",
       "  </tbody>\n",
       "</table>\n",
       "</div>"
      ],
      "text/plain": [
       "                                              Review     Label  label_num\n",
       "0  I went and saw this movie last night after bei...  Positive          0\n",
       "1  Actor turned director Bill Paxton follows up h...  Positive          0\n",
       "2  As a recreational golfer with some knowledge o...  Positive          0\n",
       "3  I saw this film in a sneak preview, and it is ...  Positive          0\n",
       "4  Bill Paxton has taken the true story of the 19...  Positive          0"
      ]
     },
     "execution_count": 8,
     "metadata": {},
     "output_type": "execute_result"
    }
   ],
   "source": [
    "test_df['label_num'] = train_df['Label'].map({\n",
    "    'Positive': 0,\n",
    "    'Negative': 1\n",
    "})\n",
    "test_df.head()"
   ]
  },
  {
   "cell_type": "markdown",
   "id": "e40ed787-65a8-49aa-8e32-f55759106cd7",
   "metadata": {},
   "source": [
    "#### Preprocessing data to get them ready for modeling"
   ]
  },
  {
   "cell_type": "code",
   "execution_count": 9,
   "id": "2d04fe85-040f-40c9-b386-1a8a1ff31bec",
   "metadata": {},
   "outputs": [],
   "source": [
    "import spacy\n",
    "\n",
    "nlp = spacy.load(\"en_core_web_lg\")"
   ]
  },
  {
   "cell_type": "code",
   "execution_count": 10,
   "id": "6e2d1e19-74f6-4cc2-a676-4746361600c2",
   "metadata": {},
   "outputs": [],
   "source": [
    "# \n",
    "def preprocess_and_vectorize(text):\n",
    "    doc = nlp(text)                    # Tokenize and process text with spaCy\n",
    "    filtered_tokens = []\n",
    "    for token in doc:\n",
    "        if token.is_stop or token.is_punct:        # Filter out stop words and punctuation\n",
    "            continue\n",
    "        filtered_tokens.append(token.lemma_)       # Lemmatize remaining tokens\n",
    "    return wv.get_mean_vector(filtered_tokens)     # Vectorize the text using word vectors"
   ]
  },
  {
   "cell_type": "markdown",
   "id": "0a9bd759-85f0-4bdf-b198-76a94a386c0c",
   "metadata": {},
   "source": [
    "#### convert text into word embedding using gensim"
   ]
  },
  {
   "cell_type": "code",
   "execution_count": 11,
   "id": "b64a1ed7-3d32-4008-845b-2402cb9e4b8d",
   "metadata": {},
   "outputs": [
    {
     "name": "stdout",
     "output_type": "stream",
     "text": [
      "                                              Review     Label  label_num  \\\n",
      "0  Bromwell High is a cartoon comedy. It ran at t...  Positive          0   \n",
      "1  Homelessness (or Houselessness as George Carli...  Positive          0   \n",
      "2  Brilliant over-acting by Lesley Ann Warren. Be...  Positive          0   \n",
      "3  This is easily the most underrated film inn th...  Positive          0   \n",
      "4  This is not the typical Mel Brooks film. It wa...  Positive          0   \n",
      "\n",
      "                                 Preprocessed_Review  \n",
      "0  [0.02048781, 0.0083551025, 0.0076504354, 0.035...  \n",
      "1  [0.018606685, 0.007945998, -0.0011602048, 0.03...  \n",
      "2  [0.0283205, 0.016694989, -0.011100194, 0.01902...  \n",
      "3  [0.015744613, 0.004762898, -0.017555969, 0.030...  \n",
      "4  [0.0406657, 0.0014400244, -0.025357867, 0.0280...  \n",
      "                                              Review     Label  label_num  \\\n",
      "0  I went and saw this movie last night after bei...  Positive          0   \n",
      "1  Actor turned director Bill Paxton follows up h...  Positive          0   \n",
      "2  As a recreational golfer with some knowledge o...  Positive          0   \n",
      "3  I saw this film in a sneak preview, and it is ...  Positive          0   \n",
      "4  Bill Paxton has taken the true story of the 19...  Positive          0   \n",
      "\n",
      "                                 Preprocessed_Review  \n",
      "0  [0.039581574, 0.0052059884, -0.01922671, 0.031...  \n",
      "1  [0.013181133, 0.017217983, -0.009833744, 0.026...  \n",
      "2  [0.011379227, 0.019091487, -0.009776059, 0.032...  \n",
      "3  [0.017579949, 0.0015993972, -0.017679552, 0.03...  \n",
      "4  [0.029636169, 0.018792186, -0.007649897, 0.027...  \n",
      "CPU times: total: 59min 34s\n",
      "Wall time: 1h 26min 44s\n"
     ]
    }
   ],
   "source": [
    "%%time\n",
    "train_df['Preprocessed_Review'] = train_df['Review'].apply(lambda Review: preprocess_and_vectorize(Review))\n",
    "test_df['Preprocessed_Review'] = test_df['Review'].apply(lambda Review: preprocess_and_vectorize(Review))\n",
    "\n",
    "print(train_df.head())\n",
    "print(test_df.head())"
   ]
  },
  {
   "cell_type": "markdown",
   "id": "d2fd0254-46a1-480a-afc4-9f032a531c5e",
   "metadata": {},
   "source": [
    "#### Train and Test split"
   ]
  },
  {
   "cell_type": "code",
   "execution_count": 13,
   "id": "a757e2fc-6f38-44d9-81c4-b177578013d4",
   "metadata": {},
   "outputs": [],
   "source": [
    "X_train = train_df['Preprocessed_Review']\n",
    "X_test = test_df['Preprocessed_Review']\n",
    "y_train = train_df['label_num']\n",
    "y_test = test_df['label_num']"
   ]
  },
  {
   "cell_type": "markdown",
   "id": "47944b86-f981-46f6-80b2-25aa4379d90a",
   "metadata": {},
   "source": [
    "#### Reshaping of X_train and X_test as to fit for the model"
   ]
  },
  {
   "cell_type": "code",
   "execution_count": 15,
   "id": "efe2a23c-5d87-4baf-bc31-69cbd93b05bf",
   "metadata": {},
   "outputs": [
    {
     "name": "stdout",
     "output_type": "stream",
     "text": [
      "Shape of X_train before reshaping:  (25000,)\n",
      "Shape of X_test before reshaping:  (25000,)\n",
      "Shape of X_train_2d before reshaping:  (25000, 300)\n",
      "Shape of X_test_2d before reshaping:  (25000, 300)\n"
     ]
    }
   ],
   "source": [
    "import numpy as np\n",
    "print(\"Shape of X_train before reshaping: \", X_train.shape)\n",
    "print(\"Shape of X_test before reshaping: \", X_test.shape)\n",
    "\n",
    "X_train_2d = np.stack(X_train)\n",
    "X_test_2d = np.stack(X_test)\n",
    "\n",
    "print(\"Shape of X_train_2d before reshaping: \", X_train_2d.shape)\n",
    "print(\"Shape of X_test_2d before reshaping: \", X_test_2d.shape)"
   ]
  },
  {
   "cell_type": "markdown",
   "id": "f95ed9ea-b894-4223-8b56-cf6113562bcf",
   "metadata": {},
   "source": [
    "### Modeling"
   ]
  },
  {
   "cell_type": "markdown",
   "id": "8e9a321a-f6ab-436a-8910-9b2322bcb1f9",
   "metadata": {},
   "source": [
    "In this project I will train two models and evaluate their performances\n",
    "1. Random forest \n",
    "2. Gradient Boosting"
   ]
  },
  {
   "cell_type": "code",
   "execution_count": 17,
   "id": "709ce553-cd03-4caa-a2e9-c885f9830b26",
   "metadata": {},
   "outputs": [
    {
     "name": "stdout",
     "output_type": "stream",
     "text": [
      "              precision    recall  f1-score   support\n",
      "\n",
      "           0       1.00      1.00      1.00     12500\n",
      "           1       1.00      1.00      1.00     12500\n",
      "\n",
      "    accuracy                           1.00     25000\n",
      "   macro avg       1.00      1.00      1.00     25000\n",
      "weighted avg       1.00      1.00      1.00     25000\n",
      "\n"
     ]
    },
    {
     "data": {
      "text/plain": [
       "Text(95.72222222222221, 0.5, 'True')"
      ]
     },
     "execution_count": 17,
     "metadata": {},
     "output_type": "execute_result"
    },
    {
     "data": {
      "image/png": "[encoded data removed]",
      "text/plain": [
       "<Figure size 1000x800 with 2 Axes>"
      ]
     },
     "metadata": {},
     "output_type": "display_data"
    }
   ],
   "source": [
    "# Random Forest Model\n",
    "\n",
    "from sklearn.ensemble import RandomForestClassifier\n",
    "from sklearn.metrics import classification_report\n",
    "import matplotlib.pyplot as plt\n",
    "import seaborn as sn\n",
    "from sklearn.metrics import confusion_matrix\n",
    "\n",
    "clf = RandomForestClassifier()\n",
    "\n",
    "clf.fit(X_train_2d, y_train)\n",
    "\n",
    "y_pred = clf.predict(X_test_2d)\n",
    "\n",
    "print(classification_report(y_test, y_test))\n",
    "\n",
    "cm = confusion_matrix(y_test, y_pred)\n",
    "\n",
    "plt.figure(figsize=(10, 8))\n",
    "sn.heatmap(cm, annot=True, fmt='d')\n",
    "plt.xlabel('Prediction')\n",
    "plt.ylabel('True')"
   ]
  },
  {
   "cell_type": "markdown",
   "id": "97fcc955-5665-48e9-bcac-b7af1470857e",
   "metadata": {},
   "source": [
    "The random forest model achieved perfect performance on the test data, with precision, recall, and F1-scores all at 1.00 for both classes (0 and 1), across 12,500 samples per class. The overall accuracy is also 1.00. Additionally, the confusion matrix indicates that 79.2% of the test data was correctly classified."
   ]
  },
  {
   "cell_type": "code",
   "execution_count": 19,
   "id": "b31faec4-be5a-48d2-bd60-4c03235ba496",
   "metadata": {},
   "outputs": [
    {
     "name": "stdout",
     "output_type": "stream",
     "text": [
      "              precision    recall  f1-score   support\n",
      "\n",
      "           0       1.00      1.00      1.00     12500\n",
      "           1       1.00      1.00      1.00     12500\n",
      "\n",
      "    accuracy                           1.00     25000\n",
      "   macro avg       1.00      1.00      1.00     25000\n",
      "weighted avg       1.00      1.00      1.00     25000\n",
      "\n"
     ]
    },
    {
     "data": {
      "text/plain": [
       "Text(95.72222222222221, 0.5, 'True')"
      ]
     },
     "execution_count": 19,
     "metadata": {},
     "output_type": "execute_result"
    },
    {
     "data": {
      "image/png": "[encoded data removed]",
      "text/plain": [
       "<Figure size 1000x800 with 2 Axes>"
      ]
     },
     "metadata": {},
     "output_type": "display_data"
    }
   ],
   "source": [
    "# Gradient Boosting Model\n",
    "\n",
    "from sklearn.ensemble import GradientBoostingClassifier \n",
    "\n",
    "clf = GradientBoostingClassifier()\n",
    "\n",
    "clf.fit(X_train_2d, y_train)\n",
    "\n",
    "y_pred = clf.predict(X_test_2d)\n",
    "\n",
    "print(classification_report(y_test, y_test))\n",
    "\n",
    "cm = confusion_matrix(y_test, y_pred)\n",
    "\n",
    "plt.figure(figsize=(10, 8))\n",
    "sn.heatmap(cm, annot=True, fmt='d')\n",
    "plt.xlabel('Prediction')\n",
    "plt.ylabel('True')"
   ]
  },
  {
   "cell_type": "markdown",
   "id": "b16a1344-772d-4dd2-b57a-f93a35b8d788",
   "metadata": {},
   "source": [
    "The gradient boosting model, like the random forest model, performed excellently on the datasets, achieving perfect scores in precision, recall, and F1-score (1.00) for both classes (0 and 1), across 12,500 samples per class. The overall accuracy is also 1.00. Despite the perfect classification report making it hard to distinguish which model performed better, the gradient boosting model correctly predicted 80.9% of the data, indicating it is slightly ahead of the random forest model in this aspect."
   ]
  }
 ],
 "metadata": {
  "kernelspec": {
   "display_name": "Python 3 (ipykernel)",
   "language": "python",
   "name": "python3"
  },
  "language_info": {
   "codemirror_mode": {
    "name": "ipython",
    "version": 3
   },
   "file_extension": ".py",
   "mimetype": "text/x-python",
   "name": "python",
   "nbconvert_exporter": "python",
   "pygments_lexer": "ipython3",
   "version": "3.12.4"
  }
 },
 "nbformat": 4,
 "nbformat_minor": 5
}
